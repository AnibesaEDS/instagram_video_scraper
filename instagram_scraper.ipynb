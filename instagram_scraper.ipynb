{
 "cells": [
  {
   "cell_type": "markdown",
   "metadata": {},
   "source": [
    "# Selenium Web Scraping Function designed for downloading Instagram Clips from a paticular Page"
   ]
  },
  {
   "cell_type": "code",
   "execution_count": 1,
   "metadata": {},
   "outputs": [],
   "source": [
    "# Instagram Scraping function\n",
    "def get_instagram_video_content(video_content_url):\n",
    "    \n",
    "    # Dependencies for the Instagram Scraping function \n",
    "    from selenium import webdriver \n",
    "    from webdriver_manager.chrome import ChromeDriverManager\n",
    "    import time\n",
    "    import urllib.request\n",
    "    \n",
    "    driver = webdriver.Chrome(ChromeDriverManager().install()) ## Use the most recent recommended chromedriver, download/install if needed \n",
    "    \n",
    "    driver.get(video_content_url) # get HTML page from the given url\n",
    "    \n",
    "    posts = []; # Create a buffer for all posts on the page\n",
    "    links = driver.find_elements_by_tag_name('a'); # Find all 'a' records on the HTML page\n",
    "    for link in links: # for every post on a page with a 'href' value, save the download url into the 'posts' buffer\n",
    "        post = link.get_attribute('href'); # Get all posts that have a 'href' value\n",
    "        if '/p/' in post: # if there is \n",
    "            posts.append(post); # append url to 'posts' buffer\n",
    "    \n",
    "    download_url = ''; # Create an empty array for the download url\n",
    "    for post in posts: # for every post on the Instagram page download the video content if there is any\n",
    "        driver.get(post); # Use Selenium to go to the given url in the browser\n",
    "        shortcode = driver.current_url.split('/')[-2]; # Get the url shortcode\n",
    "        type = driver.find_element_by_xpath('//meta[@property=\"og:type\"]').get_attribute('content'); # find all content that \n",
    "        \n",
    "        # if the content is of type 'video' then download the content locally, else still get the content just do nothing with it\n",
    "        if type == 'video':\n",
    "            download_url = driver.find_element_by_xpath('//meta[@property=\"og:video\"]').get_attribute('content'); # Get content from the post\n",
    "            urllib.request.urlretrieve(download_url, \"{}.mp4\".format(shortcode)); # Download content as .mp4 using the shortcode url\n",
    "        else:\n",
    "            download_url = driver.find_element_by_xpath('//meta[@property=\"og:image\"]').get_attribute('content'); # Get content from the post\n",
    "        \n",
    "    print('Done Scraping');"
   ]
  },
  {
   "cell_type": "code",
   "execution_count": 3,
   "metadata": {},
   "outputs": [
    {
     "name": "stderr",
     "output_type": "stream",
     "text": [
      "[WDM] - Current google-chrome version is 84.0.4147\n",
      "[WDM] - Get LATEST driver version for 84.0.4147\n",
      "[WDM] - Driver [C:\\Users\\Anibesa\\.wdm\\drivers\\chromedriver\\win32\\84.0.4147.30\\chromedriver.exe] found in cache\n"
     ]
    },
    {
     "name": "stdout",
     "output_type": "stream",
     "text": [
      " \n",
      "Done Scraping\n"
     ]
    }
   ],
   "source": [
    "# Call Instagram Scraping function\n",
    "get_instagram_video_content('https://www.instagram.com/chillwildlife/') # Downloads all video content locally from a select Instagram page"
   ]
  },
  {
   "cell_type": "markdown",
   "metadata": {},
   "source": [
    "# Concatenate all .mp4 files into One output video using MoviePy"
   ]
  },
  {
   "cell_type": "code",
   "execution_count": 3,
   "metadata": {},
   "outputs": [],
   "source": [
    "# Concatenate all .mp4 files into one output file\n",
    "def combine_video_content():\n",
    "    \n",
    "    # Dependencies for concatenating all .mp4 files into one output file\n",
    "    from moviepy.editor import VideoFileClip, concatenate_videoclips\n",
    "    from natsort import natsorted \n",
    "    import os\n",
    "\n",
    "    buf = []; # Create a buf array for all local video files\n",
    "    for root, dirs, files in os.walk(r\"./\"): # open local directory where the video content is saved\n",
    "\n",
    "        files = natsorted(files); # Get a list of all file paths in the local directory\n",
    "        for index, file in enumerate(files): # search through all the files in the directory and save the file paths for all files that are .mp4\n",
    "            if os.path.splitext(file)[1] == '.mp4': # filter all .mp4 files\n",
    "                filePath = os.path.join(root, file); # Combine file paths for complete path\n",
    "                video = VideoFileClip(filePath); # Use MoviePy function to load video data\n",
    "                buf.append(video); # append video data \n",
    "                \n",
    "    final_clip = concatenate_videoclips(buf); # Concatenate all files in the buf array\n",
    "    final_clip.resize(width=480).to_videofile(\"output.mp4\", fps=24, remove_temp=True); # Name output file, set a frame rate and delete any/all temporary files in the locally directory\n",
    "        \n",
    "    print('Done Stitching Videos');"
   ]
  },
  {
   "cell_type": "code",
   "execution_count": 4,
   "metadata": {},
   "outputs": [
    {
     "name": "stderr",
     "output_type": "stream",
     "text": [
      "chunk:   0%|          | 2/2443 [00:00<03:25, 11.87it/s, now=None]"
     ]
    },
    {
     "name": "stdout",
     "output_type": "stream",
     "text": [
      "Moviepy - Building video output.mp4.\n",
      "MoviePy - Writing audio in outputTEMP_MPY_wvf_snd.mp3\n"
     ]
    },
    {
     "name": "stderr",
     "output_type": "stream",
     "text": [
      "t:   0%|          | 2/2659 [00:00<03:36, 12.26it/s, now=None]        "
     ]
    },
    {
     "name": "stdout",
     "output_type": "stream",
     "text": [
      "MoviePy - Done.\n",
      "Moviepy - Writing video output.mp4\n",
      "\n"
     ]
    },
    {
     "name": "stderr",
     "output_type": "stream",
     "text": [
      "                                                                \r"
     ]
    },
    {
     "name": "stdout",
     "output_type": "stream",
     "text": [
      "Moviepy - Done !\n",
      "Moviepy - video ready output.mp4\n",
      "Done Stitching Videos\n"
     ]
    }
   ],
   "source": [
    "# Call .mp4 Concatenate function \n",
    "combine_video_content();"
   ]
  },
  {
   "cell_type": "code",
   "execution_count": null,
   "metadata": {},
   "outputs": [],
   "source": []
  }
 ],
 "metadata": {
  "kernelspec": {
   "display_name": "Python 3",
   "language": "python",
   "name": "python3"
  },
  "language_info": {
   "codemirror_mode": {
    "name": "ipython",
    "version": 3
   },
   "file_extension": ".py",
   "mimetype": "text/x-python",
   "name": "python",
   "nbconvert_exporter": "python",
   "pygments_lexer": "ipython3",
   "version": "3.7.6"
  }
 },
 "nbformat": 4,
 "nbformat_minor": 4
}
